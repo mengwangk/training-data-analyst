{
 "cells": [
  {
   "cell_type": "markdown",
   "metadata": {},
   "source": [
    "## Install nightly version of TensorFlow.\n"
   ]
  },
  {
   "cell_type": "code",
   "execution_count": 7,
   "metadata": {},
   "outputs": [
    {
     "name": "stdout",
     "output_type": "stream",
     "text": [
      "Note: you may need to restart the kernel to use updated packages.\n",
      "Note: you may need to restart the kernel to use updated packages.\n"
     ]
    }
   ],
   "source": [
    "%pip install --upgrade --quiet pip\n",
    "%pip install --upgrade --quiet tf_nightly-2.0-preview"
   ]
  },
  {
   "cell_type": "code",
   "execution_count": 1,
   "metadata": {},
   "outputs": [
    {
     "name": "stdout",
     "output_type": "stream",
     "text": [
      "2.0.0-dev20190820\n"
     ]
    }
   ],
   "source": [
    "import tensorflow as tf\n",
    "print(tf.version.VERSION)"
   ]
  },
  {
   "cell_type": "markdown",
   "metadata": {},
   "source": [
    "If you get a version that is from July 31, please make sure to update pip. You need pip version 19.1 or higher."
   ]
  },
  {
   "cell_type": "markdown",
   "metadata": {},
   "source": [
    "## Check Keras\n",
    "\n",
    "This is a simple repro that ensures that the Keras feature columns used in this tutorial will work properly."
   ]
  },
  {
   "cell_type": "code",
   "execution_count": 2,
   "metadata": {},
   "outputs": [
    {
     "name": "stderr",
     "output_type": "stream",
     "text": [
      "WARNING: Logging before flag parsing goes to stderr.\n",
      "W0820 18:51:59.834915 139633601226496 deprecation.py:323] From /home/jupyter/.local/lib/python3.5/site-packages/tensorflow_core/python/feature_column/feature_column_v2.py:4271: IndicatorColumn._variable_shape (from tensorflow.python.feature_column.feature_column_v2) is deprecated and will be removed in a future version.\n",
      "Instructions for updating:\n",
      "The old _FeatureColumn APIs are being deprecated. Please use the new FeatureColumn APIs instead.\n",
      "W0820 18:51:59.836743 139633601226496 deprecation.py:323] From /home/jupyter/.local/lib/python3.5/site-packages/tensorflow_core/python/feature_column/feature_column_v2.py:4326: IdentityCategoricalColumn._num_buckets (from tensorflow.python.feature_column.feature_column_v2) is deprecated and will be removed in a future version.\n",
      "Instructions for updating:\n",
      "The old _FeatureColumn APIs are being deprecated. Please use the new FeatureColumn APIs instead.\n"
     ]
    },
    {
     "name": "stdout",
     "output_type": "stream",
     "text": [
      "2.0.0-dev20190820\n"
     ]
    },
    {
     "name": "stderr",
     "output_type": "stream",
     "text": [
      "W0820 18:51:59.968906 139633601226496 training.py:507] Falling back from v2 loop because of error: Failed to find data adapter that can handle input: (<class 'list'> containing values of types {\"<class 'pandas.core.series.Series'>\"}), <class 'NoneType'>\n",
      "W0820 18:51:59.970422 139633601226496 training_utils.py:1210] When passing input data as arrays, do not specify `steps_per_epoch`/`steps` argument. Please use `batch_size` instead.\n"
     ]
    },
    {
     "name": "stdout",
     "output_type": "stream",
     "text": [
      "Train on 1 samples\n",
      "1/1 [==============================] - 0s 96ms/step - loss: 5.1734 - mse: 5.1734\n"
     ]
    },
    {
     "name": "stderr",
     "output_type": "stream",
     "text": [
      "W0820 18:52:00.307329 139633601226496 training.py:507] Falling back from v2 loop because of error: Failed to find data adapter that can handle input: (<class 'list'> containing values of types {\"<class 'pandas.core.series.Series'>\"}), <class 'NoneType'>\n"
     ]
    },
    {
     "name": "stdout",
     "output_type": "stream",
     "text": [
      "3/3 [==============================] - 0s 22ms/sample - loss: 5.1600 - mse: 5.1600\n"
     ]
    },
    {
     "data": {
      "text/plain": [
       "array([[0.39770463]], dtype=float32)"
      ]
     },
     "execution_count": 2,
     "metadata": {},
     "output_type": "execute_result"
    }
   ],
   "source": [
    "import pandas as pd\n",
    "import datetime\n",
    "print(tf.version.VERSION)\n",
    "import shutil\n",
    "import os\n",
    "\n",
    "# serving inputs to model\n",
    "inputs = {\n",
    "    'a' : tf.keras.layers.Input(name='a', shape=(), dtype='int32'),\n",
    "    'b' : tf.keras.layers.Input(name='b', shape=(), dtype='int32')\n",
    "}\n",
    "\n",
    "# feature columns based on training inputs\n",
    "infc = {\n",
    "    'a' : tf.feature_column.categorical_column_with_identity('a', num_buckets = 7),\n",
    "    'b' : tf.feature_column.categorical_column_with_identity('b', num_buckets = 24)\n",
    "}\n",
    "#infc['ab'] = tf.feature_column.crossed_column([infc['a'], infc['b']], 2 )\n",
    "\n",
    "# transformed\n",
    "outfc = {\n",
    "    'a' : tf.feature_column.indicator_column(infc['a']),\n",
    "    'b' : tf.feature_column.indicator_column(infc['b']),\n",
    "    #'ab': tf.feature_column.embedding_column(infc['ab'], 2)                                            \n",
    "}\n",
    "\n",
    "# model architecture\n",
    "ds = tf.keras.layers.DenseFeatures(outfc.values())(inputs)\n",
    "output = tf.keras.layers.Dense(1, name='pred')(ds)\n",
    "model = tf.keras.models.Model(inputs=inputs, outputs=output)\n",
    "\n",
    "model.compile(optimizer='adam', loss='mse', metrics=['mse'])\n",
    "\n",
    "df = pd.DataFrame.from_dict({\n",
    "    'a': [3, 5, 2],\n",
    "    'b': [13, 15, 18]\n",
    "})\n",
    "y =  [3.0, 2.0, 2.0]\n",
    "\n",
    "#shutil.rmtree('04_keras/checkpoints/', ignore_errors=True)\n",
    "#checkpoint_path = \"04_keras/checkpoints/nightly.cpt\"\n",
    "#cp_callback = tf.keras.callbacks.ModelCheckpoint(checkpoint_path, \n",
    "#                                                 save_weights_only=True,\n",
    "#                                                 verbose=1)\n",
    "\n",
    "model.fit([df['a'], df['b']], y, steps_per_epoch=1) #, callbacks=[cp_callback])\n",
    "model.evaluate([df['a'], df['b']], y)\n",
    "\n",
    "model.predict({\n",
    "    'a': tf.convert_to_tensor([3]),\n",
    "    'b': tf.convert_to_tensor([13])\n",
    "}, steps=1)"
   ]
  },
  {
   "cell_type": "code",
   "execution_count": 3,
   "metadata": {},
   "outputs": [
    {
     "data": {
      "image/png": "[encoded data removed]",
      "text/plain": [
       "<IPython.core.display.Image object>"
      ]
     },
     "execution_count": 3,
     "metadata": {},
     "output_type": "execute_result"
    }
   ],
   "source": [
    "tf.keras.utils.plot_model(model, 'repro_model.png', show_shapes=True)"
   ]
  },
  {
   "cell_type": "code",
   "execution_count": 4,
   "metadata": {},
   "outputs": [
    {
     "name": "stderr",
     "output_type": "stream",
     "text": [
      "W0820 18:52:09.215143 139633601226496 deprecation.py:506] From /home/jupyter/.local/lib/python3.5/site-packages/tensorflow_core/python/ops/resource_variable_ops.py:1781: calling BaseResourceVariable.__init__ (from tensorflow.python.ops.resource_variable_ops) with constraint is deprecated and will be removed in a future version.\n",
      "Instructions for updating:\n",
      "If using Keras pass *_constraint arguments to layers.\n"
     ]
    }
   ],
   "source": [
    "# demonstrates how to write a custom serving function\n",
    "class ExportModel(tf.keras.Model):\n",
    "    def __init__(self, model):\n",
    "        super().__init__(self)\n",
    "        self.model = model\n",
    "\n",
    "    @tf.function(input_signature=[\n",
    "        tf.TensorSpec([None,], dtype='int32', name='a'),\n",
    "        tf.TensorSpec([None,], dtype='int32', name='b')\n",
    "    ])\n",
    "    def serving_fn(self, a, b):\n",
    "        return {\n",
    "            'pred' : self.model({'a': a, 'b': b}) #, steps=1)\n",
    "        }\n",
    "\n",
    "    def save(self, export_path):\n",
    "        sigs = {\n",
    "            'serving_default' : self.serving_fn\n",
    "        }\n",
    "        tf.keras.backend.set_learning_phase(0) # inference only\n",
    "        tf.saved_model.save(self, export_path, signatures=sigs)\n",
    "\n",
    "import shutil, os, datetime\n",
    "OUTPUT_DIR = '04_keras/export/savedmodel'\n",
    "shutil.rmtree(OUTPUT_DIR, ignore_errors=True)\n",
    "EXPORT_PATH = os.path.join(OUTPUT_DIR, datetime.datetime.now().strftime('%Y%m%d%H%M%S'))\n",
    "\n",
    "# sm = ExportModel(model); sm.save(EXPORT_PATH)  # custom serving function\n",
    "tf.saved_model.save(model, EXPORT_PATH) # with default serving function"
   ]
  },
  {
   "cell_type": "code",
   "execution_count": 5,
   "metadata": {},
   "outputs": [
    {
     "name": "stdout",
     "output_type": "stream",
     "text": [
      "The given SavedModel SignatureDef contains the following input(s):\n",
      "  inputs['a'] tensor_info:\n",
      "      dtype: DT_INT32\n",
      "      shape: (-1)\n",
      "      name: serving_default_a:0\n",
      "  inputs['b'] tensor_info:\n",
      "      dtype: DT_INT32\n",
      "      shape: (-1)\n",
      "      name: serving_default_b:0\n",
      "The given SavedModel SignatureDef contains the following output(s):\n",
      "  outputs['pred'] tensor_info:\n",
      "      dtype: DT_FLOAT\n",
      "      shape: (-1, 1)\n",
      "      name: StatefulPartitionedCall:0\n",
      "Method name is: tensorflow/serving/predict\n"
     ]
    }
   ],
   "source": [
    "!saved_model_cli show --tag_set serve --signature_def serving_default --dir {EXPORT_PATH}"
   ]
  },
  {
   "cell_type": "code",
   "execution_count": 6,
   "metadata": {},
   "outputs": [
    {
     "name": "stdout",
     "output_type": "stream",
     "text": [
      "04_keras/export/savedmodel/20190820185208\n",
      "04_keras/export/savedmodel/20190820185208/saved_model.pb\n",
      "04_keras/export/savedmodel/20190820185208/assets\n",
      "04_keras/export/savedmodel/20190820185208/variables\n",
      "04_keras/export/savedmodel/20190820185208/variables/variables.index\n",
      "04_keras/export/savedmodel/20190820185208/variables/variables.data-00000-of-00001\n"
     ]
    }
   ],
   "source": [
    "!find {EXPORT_PATH}\n",
    "os.environ['EXPORT_PATH'] = EXPORT_PATH"
   ]
  },
  {
   "cell_type": "code",
   "execution_count": null,
   "metadata": {},
   "outputs": [],
   "source": [
    "%%writefile repro.json\n",
    "{\"a\": 3, \"b\": 13}"
   ]
  },
  {
   "cell_type": "code",
   "execution_count": null,
   "metadata": {},
   "outputs": [],
   "source": [
    "%%bash\n",
    "PROJECT=cloud-training-demos\n",
    "BUCKET=${PROJECT}-ml\n",
    "REGION=us-east1\n",
    "MODEL_NAME=taxifare\n",
    "VERSION_NAME=v1\n",
    "\n",
    "if [[ $(gcloud ai-platform models list --format='value(name)' | grep $MODEL_NAME) ]]; then\n",
    "    echo \"$MODEL_NAME already exists\"\n",
    "else\n",
    "    # create model\n",
    "    echo \"Creating $MODEL_NAME\"\n",
    "    gcloud ai-platform models create --regions=$REGION $MODEL_NAME\n",
    "fi\n",
    "\n",
    "if [[ $(gcloud ai-platform versions list --model $MODEL_NAME --format='value(name)' | grep $VERSION_NAME) ]]; then\n",
    "    echo \"Deleting already existing $MODEL_NAME:$VERSION_NAME ... \"\n",
    "    gcloud ai-platform versions delete --model=$MODEL_NAME $VERSION_NAME\n",
    "    echo \"Please run this cell again if you don't see a Creating message ... \"\n",
    "    sleep 10\n",
    "fi\n",
    "\n",
    "# create model\n",
    "echo \"Creating $MODEL_NAME:$VERSION_NAME\"\n",
    "gcloud ai-platform versions create --model=$MODEL_NAME $VERSION_NAME --async \\\n",
    "       --framework=tensorflow --python-version=3.5 --runtime-version=1.14 \\\n",
    "       --origin=$EXPORT_PATH --staging-bucket=gs://$BUCKET"
   ]
  },
  {
   "cell_type": "markdown",
   "metadata": {},
   "source": [
    "Monitor the model creation at [GCP Console > AI Platform](https://console.cloud.google.com/mlengine/models/taxifare/) and once the model version `v1` is created, proceed to the next cell."
   ]
  },
  {
   "cell_type": "code",
   "execution_count": null,
   "metadata": {},
   "outputs": [],
   "source": [
    "!gcloud ai-platform predict --model taxifare --json-instances repro.json --version v1"
   ]
  },
  {
   "cell_type": "code",
   "execution_count": null,
   "metadata": {},
   "outputs": [],
   "source": [
    "## REPRO for @tf.function\n",
    "\n",
    "import tensorflow as tf\n",
    "import pandas as pd\n",
    "import datetime\n",
    "print(tf.version.VERSION)\n",
    "import shutil\n",
    "import os\n",
    "\n",
    "# serving inputs to model\n",
    "inputs = {\n",
    "    'pickup_datetime' : tf.keras.layers.Input(name='a', shape=(), dtype='string')\n",
    "}\n",
    "\n",
    "transformed = {}\n",
    "feature_columns = {}\n",
    "\n",
    "# hourofday can be done through a tf.strings.substr and works okay\n",
    "transformed['hourofday'] = tf.keras.layers.Lambda(\n",
    "        lambda x: tf.strings.to_number(tf.strings.substr(x, 11, 2), out_type=tf.dtypes.int32),\n",
    "        name='hourofday'\n",
    ")(inputs['pickup_datetime'])\n",
    "feature_columns['hourofday'] = tf.feature_column.indicator_column(\n",
    "        tf.feature_column.categorical_column_with_identity('hourofday', num_buckets=24))\n",
    "\n",
    "# ADDING THIS CODE CAUSES ERROR\n",
    "if False:\n",
    "    DAYS = ['Sun', 'Mon', 'Tue', 'Wed', 'Thu', 'Fri', 'Sat']\n",
    "    def get_dayofweek(s):\n",
    "        if type(s) is not str:\n",
    "            s = s.numpy().decode('utf-8') # if it is a Tensor\n",
    "        ts = datetime.datetime.strptime(s, \"%Y-%m-%d %H:%M:%S %Z\")\n",
    "        return DAYS[ts.weekday()]\n",
    "\n",
    "    print(get_dayofweek('2012-07-05 14:18:00 UTC'))\n",
    "    print(get_dayofweek(tf.constant('2012-07-05 14:18:00 UTC')))\n",
    "\n",
    "    def dayofweek(ts_in):\n",
    "        return tf.map_fn(\n",
    "            lambda s: tf.py_function(get_dayofweek, inp=[s], Tout=tf.string),\n",
    "            ts_in\n",
    "        )\n",
    "\n",
    "    transformed['dayofweek'] = tf.keras.layers.Lambda(\n",
    "            lambda x: dayofweek(x),\n",
    "            name='dayofweek_pyfun'\n",
    "    )(inputs['pickup_datetime'])\n",
    "    transformed['dayofweek'] = tf.keras.layers.Reshape((), name='dayofweek')(transformed['dayofweek'])\n",
    "    feature_columns['dayofweek'] = tf.feature_column.indicator_column(\n",
    "        tf.feature_column.categorical_column_with_vocabulary_list('dayofweek', vocabulary_list = DAYS))\n",
    "## END ADD\n",
    "\n",
    "# model architecture\n",
    "ds = tf.keras.layers.DenseFeatures(feature_columns.values())(transformed)\n",
    "output = tf.keras.layers.Dense(1, name='pred')(ds)\n",
    "model = tf.keras.models.Model(inputs=inputs, outputs=output)\n",
    "\n",
    "model.compile(optimizer='adam', loss='mse', metrics=['mse'])\n",
    "\n",
    "df = pd.DataFrame.from_dict({\n",
    "    'pickup_datetime': ['2012-07-05 14:18:00 UTC', '2012-07-05 15:18:00 UTC'],\n",
    "})\n",
    "y =  [3.0, 2.0]\n",
    "\n",
    "# need clean checkpoint path: otherwise get cache error\n",
    "OUTDIR='/tmp'\n",
    "shutil.rmtree('{}/checkpoints/'.format(OUTDIR), ignore_errors=True)\n",
    "checkpoint_path = '{}/checkpoints/taxi'.format(OUTDIR)\n",
    "cp_callback = tf.keras.callbacks.ModelCheckpoint(checkpoint_path, \n",
    "                                                 save_weights_only=True,\n",
    "                                                 verbose=1)\n",
    "\n",
    "history = model.fit([df['pickup_datetime']], y, steps_per_epoch=1, callbacks=[cp_callback])\n",
    "\n",
    "\n",
    "import shutil, os, datetime\n",
    "OUTPUT_DIR = '04_keras/export/savedmodel'\n",
    "shutil.rmtree(OUTPUT_DIR, ignore_errors=True)\n",
    "EXPORT_PATH = os.path.join(OUTPUT_DIR, datetime.datetime.now().strftime('%Y%m%d%H%M%S'))\n",
    "tf.saved_model.save(model, EXPORT_PATH)"
   ]
  },
  {
   "cell_type": "code",
   "execution_count": null,
   "metadata": {},
   "outputs": [],
   "source": [
    "!saved_model_cli show --tag_set serve --signature_def serving_default --dir {EXPORT_PATH}"
   ]
  },
  {
   "cell_type": "code",
   "execution_count": null,
   "metadata": {},
   "outputs": [],
   "source": [
    "## repro for \"unhashable type list\"\n",
    "\n",
    "import tensorflow as tf\n",
    "import pandas as pd\n",
    "import datetime\n",
    "print(tf.version.VERSION)\n",
    "import shutil\n",
    "import os\n",
    "\n",
    "# serving inputs to model\n",
    "inputs = {\n",
    "    'a' : tf.keras.layers.Input(name='a', shape=(), dtype='float32'),\n",
    "    'b' : tf.keras.layers.Input(name='b', shape=(), dtype='float32'),\n",
    "}\n",
    "\n",
    "if False:\n",
    "    # Skipping full serialization of object <tensorflow.python.keras.engine.training.Model object at 0x7fe60dbabc50>, because an error occurred while tracing layer functions. Error message: unhashable type: 'list'\n",
    "    transformed = inputs.copy()\n",
    "else:\n",
    "    # no problem if I do this\n",
    "    transformed = {\n",
    "        colname : tf.keras.layers.Lambda(lambda x : x, name='passthrough_{}'.format(colname))(inputs[colname])\n",
    "              for colname in inputs.keys()\n",
    "    }    \n",
    "\n",
    "transformed['c'] = tf.keras.layers.Lambda(lambda x: x*x, name='c_sq_b')(inputs['b'])\n",
    "\n",
    "feature_columns = {\n",
    "    colname: tf.feature_column.numeric_column(colname)\n",
    "           for colname in ['a', 'b', 'c']\n",
    "}\n",
    "\n",
    "# model architecture\n",
    "ds = tf.keras.layers.DenseFeatures(feature_columns.values())(transformed)\n",
    "output = tf.keras.layers.Dense(1, name='pred')(ds)\n",
    "model = tf.keras.models.Model(inputs=inputs, outputs=output)\n",
    "\n",
    "model.compile(optimizer='adam', loss='mse', metrics=['mse'])\n",
    "\n",
    "df = pd.DataFrame.from_dict({\n",
    "    'a' : [3.0, 4.0],\n",
    "    'b' : [1.0, 2.0]\n",
    "})\n",
    "y =  [3.0, 2.0]\n",
    "\n",
    "# need clean checkpoint path: otherwise get cache error\n",
    "OUTDIR='/tmp'\n",
    "shutil.rmtree('{}/checkpoints/'.format(OUTDIR), ignore_errors=True)\n",
    "checkpoint_path = '{}/checkpoints/taxi'.format(OUTDIR)\n",
    "cp_callback = tf.keras.callbacks.ModelCheckpoint(checkpoint_path, \n",
    "                                                 save_weights_only=True,\n",
    "                                                 verbose=1)\n",
    "\n",
    "history = model.fit([df['a'], df['b']], y, batch_size=1, callbacks=[cp_callback])\n",
    "\n",
    "\n",
    "import shutil, os, datetime\n",
    "OUTPUT_DIR = '04_keras/export/savedmodel'\n",
    "shutil.rmtree(OUTPUT_DIR, ignore_errors=True)\n",
    "EXPORT_PATH = os.path.join(OUTPUT_DIR, datetime.datetime.now().strftime('%Y%m%d%H%M%S'))\n",
    "tf.saved_model.save(model, EXPORT_PATH)\n",
    "\n",
    "!saved_model_cli show --tag_set serve --signature_def serving_default --dir {EXPORT_PATH}"
   ]
  },
  {
   "cell_type": "code",
   "execution_count": null,
   "metadata": {},
   "outputs": [],
   "source": []
  }
 ],
 "metadata": {
  "kernelspec": {
   "display_name": "Python 3",
   "language": "python",
   "name": "python3"
  },
  "language_info": {
   "codemirror_mode": {
    "name": "ipython",
    "version": 3
   },
   "file_extension": ".py",
   "mimetype": "text/x-python",
   "name": "python",
   "nbconvert_exporter": "python",
   "pygments_lexer": "ipython3",
   "version": "3.5.3"
  }
 },
 "nbformat": 4,
 "nbformat_minor": 2
}
